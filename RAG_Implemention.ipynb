{
 "cells": [
  {
   "cell_type": "markdown",
   "id": "e2b718ef-1942-4bc1-8bbf-bccd72eaea63",
   "metadata": {},
   "source": [
    "# This project is about Retrival Augumented Generation (RAG), this is AI technique that allows Large Language model to access the recent up-to date information outside of their training set to provide better answer and improved result! Some key-terms regarding RAG\n",
    "\n",
    "1. Retrieval augmented generation (RAG): A technique in AI where a large language model accesses new or recent data outside its training set to provide better answers and improved results.\n",
    "\n",
    "2. Vector database: A search engine or database that stores vectorized documents, enabling more accurate information retrieval for AI mode.\n",
    "3. Embeddings-: Representations of text data as vectors in a high-dimensional space, allowing similarity comparisons between different pieces textfx4\n",
    "4. \r\n",
    "Azure AI Search: Microsoft's cloud-based search service (formerly Azure Cognitive Services Search) that offers retrieval augmentation capabilitie     s for largeanguagege mods.\n",
    "5. \r\n",
    "\r\n",
    "Comma separated value (CSV): A common data format where values are separated by commas, used in this transcript to demonstrate RAG implementation with actor database\n",
    "6. e.\r\n",
    "\r\n",
    "Pandas library: A Python library used for data manipulation and analysis, particularly useful when workiwV filesh CSles.\r\n",
    "\r\n",
    "Qdrant: Software used for creating an in-memory vector database search, enabling efficient text refrom embedding storagebeddorage.\r\n",
    "\r\n",
    "Sentence transformers: A tool to encode sentences into numerical representations (embeddings) that can be compared using cosine  andsimilarity oista9\n",
    "\n",
    "9. nc\n",
    "9. metrics.\r\n",
    "\r\n",
    "Cosine distance: A measure of similarity between two non-zero vectors in a multi-dimensional space, often used in text analysis and information retrieval.\n"
   ]
  },
  {
   "cell_type": "code",
   "execution_count": 4,
   "id": "7c14d6d9-91f0-44a2-9ec1-e593ee1244ff",
   "metadata": {},
   "outputs": [],
   "source": [
    "# Lets import the libraries\n",
    "import pandas as pd\n",
    "import seaborn as sns\n",
    "import matplotlib.pyplot as plt\n",
    "import seaborn as sns\n",
    "import plotly.express as px"
   ]
  },
  {
   "cell_type": "code",
   "execution_count": 14,
   "id": "f61655df-bd77-42ec-a619-63c46fce80cf",
   "metadata": {},
   "outputs": [],
   "source": [
    "# lets import the wine dataset in panda's dataframe\n",
    "data = pd.read_csv('top_rated_wines.csv')"
   ]
  },
  {
   "cell_type": "code",
   "execution_count": 29,
   "id": "00660cb9-2d18-4fe6-a6d7-544201cf92bd",
   "metadata": {},
   "outputs": [
    {
     "data": {
      "text/html": [
       "<div>\n",
       "<style scoped>\n",
       "    .dataframe tbody tr th:only-of-type {\n",
       "        vertical-align: middle;\n",
       "    }\n",
       "\n",
       "    .dataframe tbody tr th {\n",
       "        vertical-align: top;\n",
       "    }\n",
       "\n",
       "    .dataframe thead th {\n",
       "        text-align: right;\n",
       "    }\n",
       "</style>\n",
       "<table border=\"1\" class=\"dataframe\">\n",
       "  <thead>\n",
       "    <tr style=\"text-align: right;\">\n",
       "      <th></th>\n",
       "      <th>name</th>\n",
       "      <th>region</th>\n",
       "      <th>variety</th>\n",
       "      <th>rating</th>\n",
       "      <th>notes</th>\n",
       "    </tr>\n",
       "  </thead>\n",
       "  <tbody>\n",
       "    <tr>\n",
       "      <th>1315</th>\n",
       "      <td>Lail Georgia Sauvignon Blanc 2014</td>\n",
       "      <td>Yountville, Napa Valley, California</td>\n",
       "      <td>White Wine</td>\n",
       "      <td>96.0</td>\n",
       "      <td>The 2014 Georgia is gorgeous! Intense, precise...</td>\n",
       "    </tr>\n",
       "    <tr>\n",
       "      <th>1316</th>\n",
       "      <td>Lail J. Daniel Cuvee Cabernet Sauvignon (1.5 L...</td>\n",
       "      <td>Napa Valley, California</td>\n",
       "      <td>Red Wine</td>\n",
       "      <td>99.0</td>\n",
       "      <td>The 2013 growing season could be the equal of ...</td>\n",
       "    </tr>\n",
       "    <tr>\n",
       "      <th>1317</th>\n",
       "      <td>Lail J. Daniel Cuvee Cabernet Sauvignon 2007</td>\n",
       "      <td>Napa Valley, California</td>\n",
       "      <td>Red Wine</td>\n",
       "      <td>96.0</td>\n",
       "      <td>If I had to use one word to describe this wine...</td>\n",
       "    </tr>\n",
       "    <tr>\n",
       "      <th>1318</th>\n",
       "      <td>Lail J. Daniel Cuvee Cabernet Sauvignon 2013</td>\n",
       "      <td>Napa Valley, California</td>\n",
       "      <td>Red Wine</td>\n",
       "      <td>99.0</td>\n",
       "      <td>The 2013 growing season could be the equal of ...</td>\n",
       "    </tr>\n",
       "    <tr>\n",
       "      <th>1319</th>\n",
       "      <td>Lail J. Daniel Cuvee Cabernet Sauvignon 2015</td>\n",
       "      <td>Napa Valley, California</td>\n",
       "      <td>Red Wine</td>\n",
       "      <td>98.0</td>\n",
       "      <td>The 2015 vintage yielded a small crop of excep...</td>\n",
       "    </tr>\n",
       "    <tr>\n",
       "      <th>1320</th>\n",
       "      <td>Lamborghini Campoleone 1999</td>\n",
       "      <td>Campania, Italy</td>\n",
       "      <td>Red Wine</td>\n",
       "      <td>96.0</td>\n",
       "      <td>Long-term aging, elegant and complex red wine ...</td>\n",
       "    </tr>\n",
       "    <tr>\n",
       "      <th>1321</th>\n",
       "      <td>Lancaster Cabernet Sauvignon (375ML half-bottl...</td>\n",
       "      <td>Sonoma County, California</td>\n",
       "      <td>Red Wine</td>\n",
       "      <td>97.0</td>\n",
       "      <td>\"Its a gorgeous Cab, softly complex, rich in c...</td>\n",
       "    </tr>\n",
       "    <tr>\n",
       "      <th>1322</th>\n",
       "      <td>Lancaster Estate Cabernet Sauvignon 2004</td>\n",
       "      <td>Sonoma County, California</td>\n",
       "      <td>Red Wine</td>\n",
       "      <td>97.0</td>\n",
       "      <td>\"Its a gorgeous Cab, softly complex, rich in c...</td>\n",
       "    </tr>\n",
       "    <tr>\n",
       "      <th>1323</th>\n",
       "      <td>Langmeil The Freedom 1843 Shiraz 2016</td>\n",
       "      <td>Barossa Valley, Barossa, South Australia, Aust...</td>\n",
       "      <td>Red Wine</td>\n",
       "      <td>97.0</td>\n",
       "      <td>Deep crimson with purple hues. An intense arom...</td>\n",
       "    </tr>\n",
       "    <tr>\n",
       "      <th>1324</th>\n",
       "      <td>Larkmead Cabernet Sauvignon 2004</td>\n",
       "      <td>Napa Valley, California</td>\n",
       "      <td>Red Wine</td>\n",
       "      <td>96.0</td>\n",
       "      <td>Our favorite estate Cabernet to date, the new ...</td>\n",
       "    </tr>\n",
       "    <tr>\n",
       "      <th>1325</th>\n",
       "      <td>Larkmead Firebelle (scuffed label) 2012</td>\n",
       "      <td>Napa Valley, California</td>\n",
       "      <td>Red Wine</td>\n",
       "      <td>96.0</td>\n",
       "      <td>Upon first breath, the wine casts a demure and...</td>\n",
       "    </tr>\n",
       "    <tr>\n",
       "      <th>1326</th>\n",
       "      <td>Larkmead LMV Salon 2004</td>\n",
       "      <td>Napa Valley, California</td>\n",
       "      <td>Red Wine</td>\n",
       "      <td>98.0</td>\n",
       "      <td>Bright ruby-purple. Explosively aromatic high ...</td>\n",
       "    </tr>\n",
       "    <tr>\n",
       "      <th>1327</th>\n",
       "      <td>Larkmead LMV Salon 2005</td>\n",
       "      <td>Napa Valley, California</td>\n",
       "      <td>Red Wine</td>\n",
       "      <td>96.0</td>\n",
       "      <td>The 2005 LMV Salon Proprietary Red has a deep ...</td>\n",
       "    </tr>\n",
       "    <tr>\n",
       "      <th>1328</th>\n",
       "      <td>Larkmead LMV Salon 2007</td>\n",
       "      <td>Napa Valley, California</td>\n",
       "      <td>Red Wine</td>\n",
       "      <td>97.0</td>\n",
       "      <td>Deep ruby red/purple color. Beautifully fragra...</td>\n",
       "    </tr>\n",
       "    <tr>\n",
       "      <th>1329</th>\n",
       "      <td>Larkmead Solari Cabernet Sauvignon (1.5 Liter ...</td>\n",
       "      <td>Napa Valley, California</td>\n",
       "      <td>Red Wine</td>\n",
       "      <td>99.0</td>\n",
       "      <td>Deep ruby/purple color. Powerfully intense aro...</td>\n",
       "    </tr>\n",
       "    <tr>\n",
       "      <th>1330</th>\n",
       "      <td>Larkmead Solari Cabernet Sauvignon (1.5 Liter ...</td>\n",
       "      <td>Napa Valley, California</td>\n",
       "      <td>Red Wine</td>\n",
       "      <td>96.0</td>\n",
       "      <td>Deep ruby red/purple color. Quintessential Lar...</td>\n",
       "    </tr>\n",
       "    <tr>\n",
       "      <th>1331</th>\n",
       "      <td>Larkmead Solari Cabernet Sauvignon 2005</td>\n",
       "      <td>Napa Valley, California</td>\n",
       "      <td>Red Wine</td>\n",
       "      <td>99.0</td>\n",
       "      <td>Deep ruby/purple color. Powerfully intense aro...</td>\n",
       "    </tr>\n",
       "    <tr>\n",
       "      <th>1332</th>\n",
       "      <td>Larkmead Solari Cabernet Sauvignon 2007</td>\n",
       "      <td>Napa Valley, California</td>\n",
       "      <td>Red Wine</td>\n",
       "      <td>97.0</td>\n",
       "      <td>Bright ruby/purple. Explosively aromatic high ...</td>\n",
       "    </tr>\n",
       "    <tr>\n",
       "      <th>1333</th>\n",
       "      <td>Larkmead Solari Cabernet Sauvignon 2014</td>\n",
       "      <td>Napa Valley, California</td>\n",
       "      <td>Red Wine</td>\n",
       "      <td>99.0</td>\n",
       "      <td>There is uniqueness to Solari that cannot be f...</td>\n",
       "    </tr>\n",
       "    <tr>\n",
       "      <th>1334</th>\n",
       "      <td>Larkmead Solari Cabernet Sauvignon (bin soiled...</td>\n",
       "      <td>Napa Valley, California</td>\n",
       "      <td>Red Wine</td>\n",
       "      <td>96.0</td>\n",
       "      <td>Bright ruby/purple. Explosively aromatic high ...</td>\n",
       "    </tr>\n",
       "    <tr>\n",
       "      <th>1335</th>\n",
       "      <td>Larkmead Solari Reserve Cabernet Sauvignon (1....</td>\n",
       "      <td>Napa Valley, California</td>\n",
       "      <td>Red Wine</td>\n",
       "      <td>96.0</td>\n",
       "      <td>Bright ruby/purple. Intensely aromatic nose of...</td>\n",
       "    </tr>\n",
       "    <tr>\n",
       "      <th>1336</th>\n",
       "      <td>Laurel Glen Sonoma Mountain Estate Cabernet Sa...</td>\n",
       "      <td>Sonoma Mountain, Sonoma Valley, Sonoma County,...</td>\n",
       "      <td>Red Wine</td>\n",
       "      <td>96.0</td>\n",
       "      <td>A cooler year with some green tones in the fru...</td>\n",
       "    </tr>\n",
       "    <tr>\n",
       "      <th>1337</th>\n",
       "      <td>L'Aventure Chloe 2014</td>\n",
       "      <td>Paso Robles, Central Coast, California</td>\n",
       "      <td>Red Wine</td>\n",
       "      <td>97.0</td>\n",
       "      <td>Blend: 67% Syrah, 33% Old Vine Grenache</td>\n",
       "    </tr>\n",
       "    <tr>\n",
       "      <th>1338</th>\n",
       "      <td>L'Aventure Cote A Cote 2006</td>\n",
       "      <td>Paso Robles, Central Coast, California</td>\n",
       "      <td>Red Wine</td>\n",
       "      <td>96.0</td>\n",
       "      <td>Blend: 40% Mourvedre, 30% Grenache, 30% Syrah</td>\n",
       "    </tr>\n",
       "    <tr>\n",
       "      <th>1339</th>\n",
       "      <td>L'Aventure Cote A Cote 2011</td>\n",
       "      <td>Central Coast, California</td>\n",
       "      <td>Red Wine</td>\n",
       "      <td>96.0</td>\n",
       "      <td>Ruby in color. Intensely floral nose of violet...</td>\n",
       "    </tr>\n",
       "    <tr>\n",
       "      <th>1340</th>\n",
       "      <td>L'Aventure Cote A Cote 2014</td>\n",
       "      <td>Paso Robles, Central Coast, California</td>\n",
       "      <td>Red Wine</td>\n",
       "      <td>96.0</td>\n",
       "      <td>Blend: 50% Grenache, 28% Mourvedre, 22% Syrah</td>\n",
       "    </tr>\n",
       "    <tr>\n",
       "      <th>1341</th>\n",
       "      <td>L'Aventure Cote A Cote (slightly stained label...</td>\n",
       "      <td>Paso Robles, Central Coast, California</td>\n",
       "      <td>Red Wine</td>\n",
       "      <td>96.0</td>\n",
       "      <td>Blend: 60% Grenache, 30% Mourvedre, 10% Syrah</td>\n",
       "    </tr>\n",
       "    <tr>\n",
       "      <th>1342</th>\n",
       "      <td>L'Aventure Estate Cuvee 2004</td>\n",
       "      <td>Paso Robles, Central Coast, California</td>\n",
       "      <td>Red Wine</td>\n",
       "      <td>98.0</td>\n",
       "      <td>This wonderfully \"juicy\" 2004 Estate Cuvee is ...</td>\n",
       "    </tr>\n",
       "    <tr>\n",
       "      <th>1343</th>\n",
       "      <td>L'Aventure Estate Cuvee 2005</td>\n",
       "      <td>Paso Robles, Central Coast, California</td>\n",
       "      <td>Red Wine</td>\n",
       "      <td>96.0</td>\n",
       "      <td>Blend: 52% Syrah, 40% Cabernet Sauvignon, 8% P...</td>\n",
       "    </tr>\n",
       "    <tr>\n",
       "      <th>1344</th>\n",
       "      <td>L'Aventure Estate Cuvee 2006</td>\n",
       "      <td>Paso Robles, Central Coast, California</td>\n",
       "      <td>Red Wine</td>\n",
       "      <td>97.0</td>\n",
       "      <td>\"A thrilling, nearly perfect efforts is the 20...</td>\n",
       "    </tr>\n",
       "    <tr>\n",
       "      <th>1345</th>\n",
       "      <td>L'Aventure Estate Cuvee 2013</td>\n",
       "      <td>Central Coast, California</td>\n",
       "      <td>Red Wine</td>\n",
       "      <td>97.0</td>\n",
       "      <td>The most densely colored of all wines in a vin...</td>\n",
       "    </tr>\n",
       "    <tr>\n",
       "      <th>1346</th>\n",
       "      <td>L'Aventure Estate Cuvee 2012</td>\n",
       "      <td>Paso Robles, Central Coast, California</td>\n",
       "      <td>Red Wine</td>\n",
       "      <td>98.0</td>\n",
       "      <td>The most densely colored of all wines in a vin...</td>\n",
       "    </tr>\n",
       "    <tr>\n",
       "      <th>1347</th>\n",
       "      <td>L'Aventure Estate Cuvee 2014</td>\n",
       "      <td>Central Coast, California</td>\n",
       "      <td>Red Wine</td>\n",
       "      <td>98.0</td>\n",
       "      <td>Blend: 50% Cabernet Sauvignon, 35% Syrah, 15% ...</td>\n",
       "    </tr>\n",
       "    <tr>\n",
       "      <th>1348</th>\n",
       "      <td>L'Aventure Estate Cuvee 2016</td>\n",
       "      <td>Paso Robles, Central Coast, California</td>\n",
       "      <td>Red Wine</td>\n",
       "      <td>99.0</td>\n",
       "      <td>Blend: 52% Syrah, 32% Cabernet Sauvignon, 16% ...</td>\n",
       "    </tr>\n",
       "    <tr>\n",
       "      <th>1349</th>\n",
       "      <td>Le Chiuse Brunello di Montalcino 2013</td>\n",
       "      <td>Montalcino, Tuscany, Italy</td>\n",
       "      <td>Red Wine</td>\n",
       "      <td>96.0</td>\n",
       "      <td>Ruby red in color with light granite hues. The...</td>\n",
       "    </tr>\n",
       "    <tr>\n",
       "      <th>1350</th>\n",
       "      <td>Le Chiuse Brunello di Montalcino (375ML half-b...</td>\n",
       "      <td>Montalcino, Tuscany, Italy</td>\n",
       "      <td>Red Wine</td>\n",
       "      <td>96.0</td>\n",
       "      <td>Ruby red in color with light granite hues. The...</td>\n",
       "    </tr>\n",
       "    <tr>\n",
       "      <th>1351</th>\n",
       "      <td>Le Dome 2016</td>\n",
       "      <td>St. Emilion, Bordeaux, France</td>\n",
       "      <td>Red Wine</td>\n",
       "      <td>98.0</td>\n",
       "      <td>Blend: 80% Cabernet Franc, 20% Merlot</td>\n",
       "    </tr>\n",
       "    <tr>\n",
       "      <th>1352</th>\n",
       "      <td>Le Potazzine Gorelli Brunello di Montalcino 2012</td>\n",
       "      <td>Montalcino, Tuscany, Italy</td>\n",
       "      <td>Red Wine</td>\n",
       "      <td>96.0</td>\n",
       "      <td>Bright red garnet color and shiny. Strong olfa...</td>\n",
       "    </tr>\n",
       "    <tr>\n",
       "      <th>1353</th>\n",
       "      <td>Le Vieux Donjon Chateauneuf-du-Pape 2007</td>\n",
       "      <td>Chateauneuf-du-Pape, Rhone, France</td>\n",
       "      <td>Red Wine</td>\n",
       "      <td>96.0</td>\n",
       "      <td>70% Grenache; 20% Syrah; 10% Cinsault and Mour...</td>\n",
       "    </tr>\n",
       "    <tr>\n",
       "      <th>1354</th>\n",
       "      <td>Leeuwin Estate Art Series Chardonnay 2002</td>\n",
       "      <td>Margaret River, Western Australia, Australia</td>\n",
       "      <td>White Wine</td>\n",
       "      <td>96.0</td>\n",
       "      <td></td>\n",
       "    </tr>\n",
       "    <tr>\n",
       "      <th>1355</th>\n",
       "      <td>Leeuwin Estate Art Series Chardonnay 2001</td>\n",
       "      <td>Margaret River, Western Australia, Australia</td>\n",
       "      <td>White Wine</td>\n",
       "      <td>98.0</td>\n",
       "      <td>Number 24 on</td>\n",
       "    </tr>\n",
       "    <tr>\n",
       "      <th>1356</th>\n",
       "      <td>Leonetti Reserve 2005</td>\n",
       "      <td>Walla Walla Valley, Columbia Valley, Washington</td>\n",
       "      <td>Red Wine</td>\n",
       "      <td>97.0</td>\n",
       "      <td>Having a beautiful saturated color, the wine's...</td>\n",
       "    </tr>\n",
       "    <tr>\n",
       "      <th>1357</th>\n",
       "      <td>Leonetti Reserve (torn label) 2007</td>\n",
       "      <td>Walla Walla Valley, Columbia Valley, Washington</td>\n",
       "      <td>Red Wine</td>\n",
       "      <td>96.0</td>\n",
       "      <td>A blend of the best lots from Mill Creek Uplan...</td>\n",
       "    </tr>\n",
       "    <tr>\n",
       "      <th>1358</th>\n",
       "      <td>Lewelling Wight Vineyard Cabernet Sauvignon 2008</td>\n",
       "      <td>Napa Valley, California</td>\n",
       "      <td>Red Wine</td>\n",
       "      <td>98.0</td>\n",
       "      <td>Sumptuous aromas of blackberry, cassis, Bing c...</td>\n",
       "    </tr>\n",
       "    <tr>\n",
       "      <th>1359</th>\n",
       "      <td>Lewelling Wight Vineyard Cabernet Sauvignon 2007</td>\n",
       "      <td>St. Helena, Napa Valley, California</td>\n",
       "      <td>Red Wine</td>\n",
       "      <td>98.0</td>\n",
       "      <td>An enticing mix of black fruit, tobacco and to...</td>\n",
       "    </tr>\n",
       "    <tr>\n",
       "      <th>1360</th>\n",
       "      <td>Lewis Cellars Alec's Blend Red 2002</td>\n",
       "      <td>Napa Valley, California</td>\n",
       "      <td>Red Wine</td>\n",
       "      <td>96.0</td>\n",
       "      <td>Number 12 on</td>\n",
       "    </tr>\n",
       "    <tr>\n",
       "      <th>1361</th>\n",
       "      <td>Lewis Cellars Cabernet Sauvignon 2002</td>\n",
       "      <td>Napa Valley, California</td>\n",
       "      <td>Red Wine</td>\n",
       "      <td>96.0</td>\n",
       "      <td>Showcasing the unique personalities of small h...</td>\n",
       "    </tr>\n",
       "    <tr>\n",
       "      <th>1362</th>\n",
       "      <td>Lewis Cellars Cuvee L Cabernet Sauvignon 2015</td>\n",
       "      <td>Napa Valley, California</td>\n",
       "      <td>Red Wine</td>\n",
       "      <td>96.0</td>\n",
       "      <td>Straight from James Fenimore Cooper’s novel, L...</td>\n",
       "    </tr>\n",
       "    <tr>\n",
       "      <th>1363</th>\n",
       "      <td>Lewis Cellars Reserve Cabernet Sauvignon 2010</td>\n",
       "      <td>Napa Valley, California</td>\n",
       "      <td>Red Wine</td>\n",
       "      <td>96.0</td>\n",
       "      <td></td>\n",
       "    </tr>\n",
       "    <tr>\n",
       "      <th>1364</th>\n",
       "      <td>Lewis Cellars Reserve Cabernet Sauvignon (scuf...</td>\n",
       "      <td>Napa Valley, California</td>\n",
       "      <td>Red Wine</td>\n",
       "      <td>96.0</td>\n",
       "      <td>The headline reads: \"2012 Reserve Cabernet - R...</td>\n",
       "    </tr>\n",
       "  </tbody>\n",
       "</table>\n",
       "</div>"
      ],
      "text/plain": [
       "                                                   name  \\\n",
       "1315                  Lail Georgia Sauvignon Blanc 2014   \n",
       "1316  Lail J. Daniel Cuvee Cabernet Sauvignon (1.5 L...   \n",
       "1317       Lail J. Daniel Cuvee Cabernet Sauvignon 2007   \n",
       "1318       Lail J. Daniel Cuvee Cabernet Sauvignon 2013   \n",
       "1319       Lail J. Daniel Cuvee Cabernet Sauvignon 2015   \n",
       "1320                        Lamborghini Campoleone 1999   \n",
       "1321  Lancaster Cabernet Sauvignon (375ML half-bottl...   \n",
       "1322           Lancaster Estate Cabernet Sauvignon 2004   \n",
       "1323              Langmeil The Freedom 1843 Shiraz 2016   \n",
       "1324                   Larkmead Cabernet Sauvignon 2004   \n",
       "1325            Larkmead Firebelle (scuffed label) 2012   \n",
       "1326                            Larkmead LMV Salon 2004   \n",
       "1327                            Larkmead LMV Salon 2005   \n",
       "1328                            Larkmead LMV Salon 2007   \n",
       "1329  Larkmead Solari Cabernet Sauvignon (1.5 Liter ...   \n",
       "1330  Larkmead Solari Cabernet Sauvignon (1.5 Liter ...   \n",
       "1331            Larkmead Solari Cabernet Sauvignon 2005   \n",
       "1332            Larkmead Solari Cabernet Sauvignon 2007   \n",
       "1333            Larkmead Solari Cabernet Sauvignon 2014   \n",
       "1334  Larkmead Solari Cabernet Sauvignon (bin soiled...   \n",
       "1335  Larkmead Solari Reserve Cabernet Sauvignon (1....   \n",
       "1336  Laurel Glen Sonoma Mountain Estate Cabernet Sa...   \n",
       "1337                              L'Aventure Chloe 2014   \n",
       "1338                        L'Aventure Cote A Cote 2006   \n",
       "1339                        L'Aventure Cote A Cote 2011   \n",
       "1340                        L'Aventure Cote A Cote 2014   \n",
       "1341  L'Aventure Cote A Cote (slightly stained label...   \n",
       "1342                       L'Aventure Estate Cuvee 2004   \n",
       "1343                       L'Aventure Estate Cuvee 2005   \n",
       "1344                       L'Aventure Estate Cuvee 2006   \n",
       "1345                       L'Aventure Estate Cuvee 2013   \n",
       "1346                       L'Aventure Estate Cuvee 2012   \n",
       "1347                       L'Aventure Estate Cuvee 2014   \n",
       "1348                       L'Aventure Estate Cuvee 2016   \n",
       "1349              Le Chiuse Brunello di Montalcino 2013   \n",
       "1350  Le Chiuse Brunello di Montalcino (375ML half-b...   \n",
       "1351                                       Le Dome 2016   \n",
       "1352   Le Potazzine Gorelli Brunello di Montalcino 2012   \n",
       "1353           Le Vieux Donjon Chateauneuf-du-Pape 2007   \n",
       "1354          Leeuwin Estate Art Series Chardonnay 2002   \n",
       "1355          Leeuwin Estate Art Series Chardonnay 2001   \n",
       "1356                              Leonetti Reserve 2005   \n",
       "1357                 Leonetti Reserve (torn label) 2007   \n",
       "1358   Lewelling Wight Vineyard Cabernet Sauvignon 2008   \n",
       "1359   Lewelling Wight Vineyard Cabernet Sauvignon 2007   \n",
       "1360                Lewis Cellars Alec's Blend Red 2002   \n",
       "1361              Lewis Cellars Cabernet Sauvignon 2002   \n",
       "1362      Lewis Cellars Cuvee L Cabernet Sauvignon 2015   \n",
       "1363      Lewis Cellars Reserve Cabernet Sauvignon 2010   \n",
       "1364  Lewis Cellars Reserve Cabernet Sauvignon (scuf...   \n",
       "\n",
       "                                                 region     variety  rating  \\\n",
       "1315                Yountville, Napa Valley, California  White Wine    96.0   \n",
       "1316                            Napa Valley, California    Red Wine    99.0   \n",
       "1317                            Napa Valley, California    Red Wine    96.0   \n",
       "1318                            Napa Valley, California    Red Wine    99.0   \n",
       "1319                            Napa Valley, California    Red Wine    98.0   \n",
       "1320                                    Campania, Italy    Red Wine    96.0   \n",
       "1321                          Sonoma County, California    Red Wine    97.0   \n",
       "1322                          Sonoma County, California    Red Wine    97.0   \n",
       "1323  Barossa Valley, Barossa, South Australia, Aust...    Red Wine    97.0   \n",
       "1324                            Napa Valley, California    Red Wine    96.0   \n",
       "1325                            Napa Valley, California    Red Wine    96.0   \n",
       "1326                            Napa Valley, California    Red Wine    98.0   \n",
       "1327                            Napa Valley, California    Red Wine    96.0   \n",
       "1328                            Napa Valley, California    Red Wine    97.0   \n",
       "1329                            Napa Valley, California    Red Wine    99.0   \n",
       "1330                            Napa Valley, California    Red Wine    96.0   \n",
       "1331                            Napa Valley, California    Red Wine    99.0   \n",
       "1332                            Napa Valley, California    Red Wine    97.0   \n",
       "1333                            Napa Valley, California    Red Wine    99.0   \n",
       "1334                            Napa Valley, California    Red Wine    96.0   \n",
       "1335                            Napa Valley, California    Red Wine    96.0   \n",
       "1336  Sonoma Mountain, Sonoma Valley, Sonoma County,...    Red Wine    96.0   \n",
       "1337             Paso Robles, Central Coast, California    Red Wine    97.0   \n",
       "1338             Paso Robles, Central Coast, California    Red Wine    96.0   \n",
       "1339                          Central Coast, California    Red Wine    96.0   \n",
       "1340             Paso Robles, Central Coast, California    Red Wine    96.0   \n",
       "1341             Paso Robles, Central Coast, California    Red Wine    96.0   \n",
       "1342             Paso Robles, Central Coast, California    Red Wine    98.0   \n",
       "1343             Paso Robles, Central Coast, California    Red Wine    96.0   \n",
       "1344             Paso Robles, Central Coast, California    Red Wine    97.0   \n",
       "1345                          Central Coast, California    Red Wine    97.0   \n",
       "1346             Paso Robles, Central Coast, California    Red Wine    98.0   \n",
       "1347                          Central Coast, California    Red Wine    98.0   \n",
       "1348             Paso Robles, Central Coast, California    Red Wine    99.0   \n",
       "1349                         Montalcino, Tuscany, Italy    Red Wine    96.0   \n",
       "1350                         Montalcino, Tuscany, Italy    Red Wine    96.0   \n",
       "1351                      St. Emilion, Bordeaux, France    Red Wine    98.0   \n",
       "1352                         Montalcino, Tuscany, Italy    Red Wine    96.0   \n",
       "1353                 Chateauneuf-du-Pape, Rhone, France    Red Wine    96.0   \n",
       "1354       Margaret River, Western Australia, Australia  White Wine    96.0   \n",
       "1355       Margaret River, Western Australia, Australia  White Wine    98.0   \n",
       "1356    Walla Walla Valley, Columbia Valley, Washington    Red Wine    97.0   \n",
       "1357    Walla Walla Valley, Columbia Valley, Washington    Red Wine    96.0   \n",
       "1358                            Napa Valley, California    Red Wine    98.0   \n",
       "1359                St. Helena, Napa Valley, California    Red Wine    98.0   \n",
       "1360                            Napa Valley, California    Red Wine    96.0   \n",
       "1361                            Napa Valley, California    Red Wine    96.0   \n",
       "1362                            Napa Valley, California    Red Wine    96.0   \n",
       "1363                            Napa Valley, California    Red Wine    96.0   \n",
       "1364                            Napa Valley, California    Red Wine    96.0   \n",
       "\n",
       "                                                  notes  \n",
       "1315  The 2014 Georgia is gorgeous! Intense, precise...  \n",
       "1316  The 2013 growing season could be the equal of ...  \n",
       "1317  If I had to use one word to describe this wine...  \n",
       "1318  The 2013 growing season could be the equal of ...  \n",
       "1319  The 2015 vintage yielded a small crop of excep...  \n",
       "1320  Long-term aging, elegant and complex red wine ...  \n",
       "1321  \"Its a gorgeous Cab, softly complex, rich in c...  \n",
       "1322  \"Its a gorgeous Cab, softly complex, rich in c...  \n",
       "1323  Deep crimson with purple hues. An intense arom...  \n",
       "1324  Our favorite estate Cabernet to date, the new ...  \n",
       "1325  Upon first breath, the wine casts a demure and...  \n",
       "1326  Bright ruby-purple. Explosively aromatic high ...  \n",
       "1327  The 2005 LMV Salon Proprietary Red has a deep ...  \n",
       "1328  Deep ruby red/purple color. Beautifully fragra...  \n",
       "1329  Deep ruby/purple color. Powerfully intense aro...  \n",
       "1330  Deep ruby red/purple color. Quintessential Lar...  \n",
       "1331  Deep ruby/purple color. Powerfully intense aro...  \n",
       "1332  Bright ruby/purple. Explosively aromatic high ...  \n",
       "1333  There is uniqueness to Solari that cannot be f...  \n",
       "1334  Bright ruby/purple. Explosively aromatic high ...  \n",
       "1335  Bright ruby/purple. Intensely aromatic nose of...  \n",
       "1336  A cooler year with some green tones in the fru...  \n",
       "1337           Blend: 67% Syrah, 33% Old Vine Grenache   \n",
       "1338      Blend: 40% Mourvedre, 30% Grenache, 30% Syrah  \n",
       "1339  Ruby in color. Intensely floral nose of violet...  \n",
       "1340      Blend: 50% Grenache, 28% Mourvedre, 22% Syrah  \n",
       "1341      Blend: 60% Grenache, 30% Mourvedre, 10% Syrah  \n",
       "1342  This wonderfully \"juicy\" 2004 Estate Cuvee is ...  \n",
       "1343  Blend: 52% Syrah, 40% Cabernet Sauvignon, 8% P...  \n",
       "1344  \"A thrilling, nearly perfect efforts is the 20...  \n",
       "1345  The most densely colored of all wines in a vin...  \n",
       "1346  The most densely colored of all wines in a vin...  \n",
       "1347  Blend: 50% Cabernet Sauvignon, 35% Syrah, 15% ...  \n",
       "1348  Blend: 52% Syrah, 32% Cabernet Sauvignon, 16% ...  \n",
       "1349  Ruby red in color with light granite hues. The...  \n",
       "1350  Ruby red in color with light granite hues. The...  \n",
       "1351              Blend: 80% Cabernet Franc, 20% Merlot  \n",
       "1352  Bright red garnet color and shiny. Strong olfa...  \n",
       "1353  70% Grenache; 20% Syrah; 10% Cinsault and Mour...  \n",
       "1354                                                     \n",
       "1355                                      Number 24 on   \n",
       "1356  Having a beautiful saturated color, the wine's...  \n",
       "1357  A blend of the best lots from Mill Creek Uplan...  \n",
       "1358  Sumptuous aromas of blackberry, cassis, Bing c...  \n",
       "1359  An enticing mix of black fruit, tobacco and to...  \n",
       "1360                                      Number 12 on   \n",
       "1361  Showcasing the unique personalities of small h...  \n",
       "1362  Straight from James Fenimore Cooper’s novel, L...  \n",
       "1363                                                     \n",
       "1364  The headline reads: \"2012 Reserve Cabernet - R...  "
      ]
     },
     "execution_count": 29,
     "metadata": {},
     "output_type": "execute_result"
    }
   ],
   "source": [
    "data.tail(50)"
   ]
  },
  {
   "cell_type": "code",
   "execution_count": 16,
   "id": "b8aaed41-dd37-4feb-91be-59d390bd1a15",
   "metadata": {},
   "outputs": [
    {
     "name": "stdout",
     "output_type": "stream",
     "text": [
      "<class 'pandas.core.frame.DataFrame'>\n",
      "RangeIndex: 1365 entries, 0 to 1364\n",
      "Data columns (total 5 columns):\n",
      " #   Column   Non-Null Count  Dtype  \n",
      "---  ------   --------------  -----  \n",
      " 0   name     1365 non-null   object \n",
      " 1   region   1364 non-null   object \n",
      " 2   variety  1347 non-null   object \n",
      " 3   rating   1365 non-null   float64\n",
      " 4   notes    1365 non-null   object \n",
      "dtypes: float64(1), object(4)\n",
      "memory usage: 53.4+ KB\n"
     ]
    }
   ],
   "source": [
    "# Lets check the dataframe information\n",
    "data.info()"
   ]
  },
  {
   "cell_type": "code",
   "execution_count": 17,
   "id": "ef6c4fe2-4243-4e13-a906-5f1390537a55",
   "metadata": {},
   "outputs": [
    {
     "data": {
      "text/html": [
       "<div>\n",
       "<style scoped>\n",
       "    .dataframe tbody tr th:only-of-type {\n",
       "        vertical-align: middle;\n",
       "    }\n",
       "\n",
       "    .dataframe tbody tr th {\n",
       "        vertical-align: top;\n",
       "    }\n",
       "\n",
       "    .dataframe thead th {\n",
       "        text-align: right;\n",
       "    }\n",
       "</style>\n",
       "<table border=\"1\" class=\"dataframe\">\n",
       "  <thead>\n",
       "    <tr style=\"text-align: right;\">\n",
       "      <th></th>\n",
       "      <th>rating</th>\n",
       "    </tr>\n",
       "  </thead>\n",
       "  <tbody>\n",
       "    <tr>\n",
       "      <th>count</th>\n",
       "      <td>1365.000000</td>\n",
       "    </tr>\n",
       "    <tr>\n",
       "      <th>mean</th>\n",
       "      <td>96.859341</td>\n",
       "    </tr>\n",
       "    <tr>\n",
       "      <th>std</th>\n",
       "      <td>0.995957</td>\n",
       "    </tr>\n",
       "    <tr>\n",
       "      <th>min</th>\n",
       "      <td>96.000000</td>\n",
       "    </tr>\n",
       "    <tr>\n",
       "      <th>25%</th>\n",
       "      <td>96.000000</td>\n",
       "    </tr>\n",
       "    <tr>\n",
       "      <th>50%</th>\n",
       "      <td>97.000000</td>\n",
       "    </tr>\n",
       "    <tr>\n",
       "      <th>75%</th>\n",
       "      <td>98.000000</td>\n",
       "    </tr>\n",
       "    <tr>\n",
       "      <th>max</th>\n",
       "      <td>99.000000</td>\n",
       "    </tr>\n",
       "  </tbody>\n",
       "</table>\n",
       "</div>"
      ],
      "text/plain": [
       "            rating\n",
       "count  1365.000000\n",
       "mean     96.859341\n",
       "std       0.995957\n",
       "min      96.000000\n",
       "25%      96.000000\n",
       "50%      97.000000\n",
       "75%      98.000000\n",
       "max      99.000000"
      ]
     },
     "execution_count": 17,
     "metadata": {},
     "output_type": "execute_result"
    }
   ],
   "source": [
    "# Lets describe the dataframe\n",
    "data.describe()"
   ]
  },
  {
   "cell_type": "code",
   "execution_count": 18,
   "id": "931b90d2-0881-49a6-b185-f1ddc862f9a2",
   "metadata": {},
   "outputs": [
    {
     "data": {
      "text/plain": [
       "name        0\n",
       "region      1\n",
       "variety    18\n",
       "rating      0\n",
       "notes       0\n",
       "dtype: int64"
      ]
     },
     "execution_count": 18,
     "metadata": {},
     "output_type": "execute_result"
    }
   ],
   "source": [
    "# Lets check for the null\n",
    "data.isnull().sum()"
   ]
  },
  {
   "cell_type": "code",
   "execution_count": 19,
   "id": "02dc90fc-75e2-4a28-836a-ce9ddd0013ab",
   "metadata": {},
   "outputs": [
    {
     "data": {
      "text/plain": [
       "<Axes: >"
      ]
     },
     "execution_count": 19,
     "metadata": {},
     "output_type": "execute_result"
    },
    {
     "data": {
      "image/png": "[encoded data removed]",
      "text/plain": [
       "<Figure size 640x480 with 2 Axes>"
      ]
     },
     "metadata": {},
     "output_type": "display_data"
    }
   ],
   "source": [
    "# Lets check the null element using sns.heatmap\n",
    "sns.heatmap(data.isnull())"
   ]
  },
  {
   "cell_type": "code",
   "execution_count": 20,
   "id": "aecd3ba4-8f81-48ab-b002-6dbf9c01bbc2",
   "metadata": {},
   "outputs": [],
   "source": [
    "# Lets remove the null values\n",
    "data = data[data['variety'].notna()]\n",
    "# data.dropna(inplace = True)"
   ]
  },
  {
   "cell_type": "code",
   "execution_count": 21,
   "id": "2920e750-b020-4186-9051-88cfe316c12c",
   "metadata": {},
   "outputs": [
    {
     "data": {
      "text/plain": [
       "name       0\n",
       "region     0\n",
       "variety    0\n",
       "rating     0\n",
       "notes      0\n",
       "dtype: int64"
      ]
     },
     "execution_count": 21,
     "metadata": {},
     "output_type": "execute_result"
    }
   ],
   "source": [
    "data.isnull().sum()"
   ]
  },
  {
   "cell_type": "code",
   "execution_count": 25,
   "id": "51f573a9-d7aa-4d8f-a655-c61b8a145b59",
   "metadata": {},
   "outputs": [],
   "source": [
    "# lets convert the dataframe into dict\n",
    "datadict = data.to_dict('records')  # records is the return orientation of the dict, how the data in the dict is organised"
   ]
  },
  {
   "cell_type": "code",
   "execution_count": 1,
   "id": "eaa28533-ed67-449e-a5d6-47ffcd147474",
   "metadata": {},
   "outputs": [
    {
     "name": "stderr",
     "output_type": "stream",
     "text": [
      "C:\\Users\\HP\\anaconda3\\envs\\tensorflow\\Lib\\site-packages\\sentence_transformers\\cross_encoder\\CrossEncoder.py:11: TqdmExperimentalWarning: Using `tqdm.autonotebook.tqdm` in notebook mode. Use `tqdm.tqdm` instead to force console mode (e.g. in jupyter console)\n",
      "  from tqdm.autonotebook import tqdm, trange\n"
     ]
    },
    {
     "name": "stdout",
     "output_type": "stream",
     "text": [
      "WARNING:tensorflow:From C:\\Users\\HP\\anaconda3\\envs\\tensorflow\\Lib\\site-packages\\tf_keras\\src\\losses.py:2976: The name tf.losses.sparse_softmax_cross_entropy is deprecated. Please use tf.compat.v1.losses.sparse_softmax_cross_entropy instead.\n",
      "\n"
     ]
    }
   ],
   "source": [
    "from sentence_transformers import SentenceTransformer # sentence transformer are used convert sentence into embeddings"
   ]
  },
  {
   "cell_type": "code",
   "execution_count": 3,
   "id": "824693dc-5517-4f54-b696-e781b1b51949",
   "metadata": {},
   "outputs": [],
   "source": [
    "from qdrant_client import models, QdrantClient # Qdrant is the in-memory vector databases used to store vectore embedding "
   ]
  },
  {
   "cell_type": "code",
   "execution_count": 22,
   "id": "5f152c3a-7b42-47ff-b75b-eb519f1c27d3",
   "metadata": {},
   "outputs": [
    {
     "data": {
      "application/vnd.jupyter.widget-view+json": {
       "model_id": "7715fd92ef9749c0b38cf86391628d0f",
       "version_major": 2,
       "version_minor": 0
      },
      "text/plain": [
       "modules.json:   0%|          | 0.00/349 [00:00<?, ?B/s]"
      ]
     },
     "metadata": {},
     "output_type": "display_data"
    },
    {
     "name": "stderr",
     "output_type": "stream",
     "text": [
      "C:\\Users\\HP\\anaconda3\\envs\\tensorflow\\Lib\\site-packages\\huggingface_hub\\file_download.py:159: UserWarning: `huggingface_hub` cache-system uses symlinks by default to efficiently store duplicated files but your machine does not support them in C:\\Users\\HP\\.cache\\huggingface\\hub\\models--sentence-transformers--all-MiniLM-L6-v2. Caching files will still work but in a degraded version that might require more space on your disk. This warning can be disabled by setting the `HF_HUB_DISABLE_SYMLINKS_WARNING` environment variable. For more details, see https://huggingface.co/docs/huggingface_hub/how-to-cache#limitations.\n",
      "To support symlinks on Windows, you either need to activate Developer Mode or to run Python as an administrator. In order to see activate developer mode, see this article: https://docs.microsoft.com/en-us/windows/apps/get-started/enable-your-device-for-development\n",
      "  warnings.warn(message)\n"
     ]
    },
    {
     "data": {
      "application/vnd.jupyter.widget-view+json": {
       "model_id": "cec6e6c16ebd47b09c2d39dfde8fb9d3",
       "version_major": 2,
       "version_minor": 0
      },
      "text/plain": [
       "config_sentence_transformers.json:   0%|          | 0.00/116 [00:00<?, ?B/s]"
      ]
     },
     "metadata": {},
     "output_type": "display_data"
    },
    {
     "data": {
      "application/vnd.jupyter.widget-view+json": {
       "model_id": "598525dad18b4450a60fb18c444a6d9a",
       "version_major": 2,
       "version_minor": 0
      },
      "text/plain": [
       "README.md:   0%|          | 0.00/10.7k [00:00<?, ?B/s]"
      ]
     },
     "metadata": {},
     "output_type": "display_data"
    },
    {
     "data": {
      "application/vnd.jupyter.widget-view+json": {
       "model_id": "881852ec6e98462cb0b3cbed3db8f2b5",
       "version_major": 2,
       "version_minor": 0
      },
      "text/plain": [
       "sentence_bert_config.json:   0%|          | 0.00/53.0 [00:00<?, ?B/s]"
      ]
     },
     "metadata": {},
     "output_type": "display_data"
    },
    {
     "data": {
      "application/vnd.jupyter.widget-view+json": {
       "model_id": "70130edebd7f41f48179ff63479dff9f",
       "version_major": 2,
       "version_minor": 0
      },
      "text/plain": [
       "config.json:   0%|          | 0.00/612 [00:00<?, ?B/s]"
      ]
     },
     "metadata": {},
     "output_type": "display_data"
    },
    {
     "data": {
      "application/vnd.jupyter.widget-view+json": {
       "model_id": "83379d1c771243d5b0d3d92a30bbf242",
       "version_major": 2,
       "version_minor": 0
      },
      "text/plain": [
       "model.safetensors:   0%|          | 0.00/90.9M [00:00<?, ?B/s]"
      ]
     },
     "metadata": {},
     "output_type": "display_data"
    },
    {
     "data": {
      "application/vnd.jupyter.widget-view+json": {
       "model_id": "4e9460f7568841dab751c381f964f3fc",
       "version_major": 2,
       "version_minor": 0
      },
      "text/plain": [
       "tokenizer_config.json:   0%|          | 0.00/350 [00:00<?, ?B/s]"
      ]
     },
     "metadata": {},
     "output_type": "display_data"
    },
    {
     "data": {
      "application/vnd.jupyter.widget-view+json": {
       "model_id": "47773640426c4d998d1c81ea646a9d01",
       "version_major": 2,
       "version_minor": 0
      },
      "text/plain": [
       "vocab.txt:   0%|          | 0.00/232k [00:00<?, ?B/s]"
      ]
     },
     "metadata": {},
     "output_type": "display_data"
    },
    {
     "data": {
      "application/vnd.jupyter.widget-view+json": {
       "model_id": "9e8cb8ae14eb4c9cb88d12702f9c85cd",
       "version_major": 2,
       "version_minor": 0
      },
      "text/plain": [
       "tokenizer.json:   0%|          | 0.00/466k [00:00<?, ?B/s]"
      ]
     },
     "metadata": {},
     "output_type": "display_data"
    },
    {
     "data": {
      "application/vnd.jupyter.widget-view+json": {
       "model_id": "a994501078254c35a4875f80d5001873",
       "version_major": 2,
       "version_minor": 0
      },
      "text/plain": [
       "special_tokens_map.json:   0%|          | 0.00/112 [00:00<?, ?B/s]"
      ]
     },
     "metadata": {},
     "output_type": "display_data"
    },
    {
     "data": {
      "application/vnd.jupyter.widget-view+json": {
       "model_id": "69381296c4154ce2a29aaf4ffaa6c41e",
       "version_major": 2,
       "version_minor": 0
      },
      "text/plain": [
       "1_Pooling/config.json:   0%|          | 0.00/190 [00:00<?, ?B/s]"
      ]
     },
     "metadata": {},
     "output_type": "display_data"
    }
   ],
   "source": [
    "# Lets define the model to create embeddings\n",
    "encoder = SentenceTransformer('all-MiniLM-L6-v2')"
   ]
  },
  {
   "cell_type": "code",
   "execution_count": 23,
   "id": "8bcbc2c4-a0ee-486a-af62-7deb1757843a",
   "metadata": {},
   "outputs": [],
   "source": [
    "# Lets create a vector database client\n",
    "qdrant = QdrantClient(\":memory:\")"
   ]
  },
  {
   "cell_type": "code",
   "execution_count": 24,
   "id": "5050f454-65ea-4c5b-9fe1-65494f8cd325",
   "metadata": {},
   "outputs": [
    {
     "name": "stderr",
     "output_type": "stream",
     "text": [
      "C:\\Users\\HP\\AppData\\Local\\Temp\\ipykernel_7540\\1748158206.py:2: DeprecationWarning: `recreate_collection` method is deprecated and will be removed in the future. Use `collection_exists` to check collection existence and `create_collection` instead.\n",
      "  qdrant.recreate_collection(\n"
     ]
    },
    {
     "data": {
      "text/plain": [
       "True"
      ]
     },
     "execution_count": 24,
     "metadata": {},
     "output_type": "execute_result"
    }
   ],
   "source": [
    "# Create collection to store books\n",
    "qdrant.recreate_collection(\n",
    "    collection_name=\"top_wines\",\n",
    "    vectors_config=models.VectorParams(\n",
    "        size= encoder.get_sentence_embedding_dimension(), # Vector size is defined by used model \n",
    "        distance=models.Distance.COSINE\n",
    "    )\n",
    ")"
   ]
  },
  {
   "cell_type": "code",
   "execution_count": 26,
   "id": "7bfa56aa-c144-4aee-a07f-a01fbe87bb16",
   "metadata": {},
   "outputs": [
    {
     "name": "stderr",
     "output_type": "stream",
     "text": [
      "C:\\Users\\HP\\AppData\\Local\\Temp\\ipykernel_7540\\2783241669.py:2: DeprecationWarning: `upload_records` is deprecated, use `upload_points` instead\n",
      "  qdrant.upload_records(\n"
     ]
    }
   ],
   "source": [
    "# Lets vectorised, meaning covert sentence into embedding\n",
    "qdrant.upload_records(\n",
    "    collection_name=\"top_wines\",\n",
    "    records=[\n",
    "        models.Record(\n",
    "            id=idx,\n",
    "            vector=encoder.encode(doc[\"notes\"]).tolist(),\n",
    "            payload=doc\n",
    "        ) for idx, doc in enumerate(datadict) # datadict is the variable holding all wines \n",
    "     ]\n",
    ")"
   ]
  },
  {
   "cell_type": "code",
   "execution_count": 58,
   "id": "a1feec5d-c8f1-4302-a5f1-89a245376c9a",
   "metadata": {},
   "outputs": [
    {
     "name": "stdout",
     "output_type": "stream",
     "text": [
      "{'name': 'Krug Vintage Brut 1990', 'region': 'Champagne, France', 'variety': 'Sparkling & Champagne', 'rating': 96.0, 'notes': '\"A profound wine of great depth and complexity. Its detailed flavors range from citrus and ginger to whole grain bread and woodsy richness, with accents of honey and nuts. Retains its focus thanks to a vibrant structure, all the time carrying its weight with authority and grace. Fine, smoky finish. Drink now through 2020. 1,500 cases imported.\" - Wine Spectator '} score: 0.5804094572847869\n",
      "{'name': 'Greenock Creek Alices Shiraz 2002', 'region': 'Barossa Valley, Barossa, South Australia, Australia', 'variety': 'Red Wine', 'rating': 96.0, 'notes': 'Rich and fleshy, with pretty coffee, plum, wild berry and spice notes that are smooth and polished, long and flavorful.  An extremely limited release wine from one of Australia\\'s \"Cult\" wineries.'} score: 0.5795236960104202\n",
      "{'name': \"Greenock Creek Alice's Shiraz 2003\", 'region': 'Barossa Valley, Barossa, South Australia, Australia', 'variety': 'Red Wine', 'rating': 97.0, 'notes': 'Rich and fleshy, with pretty coffee, plum, wild berry and spice notes that are smooth and polished, long and flavorful.  An extremely limited release wine from one of Australia\\'s \"Cult\" wineries.'} score: 0.5795236960104202\n"
     ]
    }
   ],
   "source": [
    "# lets search the awesome wines from the vector store\n",
    "\n",
    "prompt = \"Suggest me amazing wine from India\"\n",
    "hits = qdrant.search(\n",
    "    collection_name='top_wines',\n",
    "    query_vector=encoder.encode(prompt).tolist(),\n",
    "    limit=3\n",
    ")\n",
    "\n",
    "for hit in hits:\n",
    "    print(hit.payload, \"score:\", hit.score)"
   ]
  },
  {
   "cell_type": "code",
   "execution_count": 42,
   "id": "575c1bcb-d1d8-4077-a355-f920eec8e145",
   "metadata": {},
   "outputs": [],
   "source": [
    "# Using RAG with LLM\n",
    "# first lets hold the search result\n",
    "search_result = [hit.payload for hit in hits]"
   ]
  },
  {
   "cell_type": "code",
   "execution_count": 47,
   "id": "d3274167-74cb-4f70-a3d6-35d366848d17",
   "metadata": {},
   "outputs": [],
   "source": [
    "# Lets import libraries\n",
    "from openai import OpenAI\n",
    "from dotenv import load_dotenv\n",
    "import os"
   ]
  },
  {
   "cell_type": "code",
   "execution_count": 60,
   "id": "82e32980-5991-4f90-a548-ea9144849cf1",
   "metadata": {},
   "outputs": [
    {
     "name": "stdout",
     "output_type": "stream",
     "text": [
      "ChatCompletionMessage(content='I apologize for the confusion in my previous response. As a wine specialist, I must clarify that India is not traditionally known for its wine production. However, there are some emerging wine regions in India such as Nashik, Karnataka, and Maharashtra that produce some high-quality wines. I recommend exploring wines from Sula Vineyards, Grover Zampa, and Fratelli Vineyards as they are among the leading wine producers in India. Look for their reds, whites, and rosés to experience the diverse range of wines coming from this up-and-coming region.', role='assistant', function_call=None, tool_calls=None, refusal=None)\n"
     ]
    }
   ],
   "source": [
    "# lets connect to Open AI LLM\n",
    "load_dotenv('apikey.env')\n",
    "APIKEY = os.getenv('APIKEY')\n",
    "client = OpenAI(\n",
    "    api_key=APIKEY\n",
    ")\n",
    "completion = client.chat.completions.create(\n",
    "    model = 'gpt-3.5-turbo',\n",
    "    messages = [\n",
    "    {\n",
    "      \"role\": \"system\",\n",
    "      \"content\": \"You are a chatbot a wine specialist, your top priority is to guide users on best wine selection\"\n",
    "    },\n",
    "    {\n",
    "      \"role\": \"user\",\n",
    "      \"content\": \"Suggest me amazing wine from India\"\n",
    "    },\n",
    "    {\n",
    "      \"role\": \"assistant\",\n",
    "      \"content\": str(search_result)\n",
    "    }\n",
    "    ]\n",
    ")\n",
    "\n",
    "print(completion.choices[0].message)"
   ]
  },
  {
   "cell_type": "code",
   "execution_count": null,
   "id": "20df271a-2284-41cd-ae0a-2760695e9400",
   "metadata": {},
   "outputs": [],
   "source": []
  }
 ],
 "metadata": {
  "kernelspec": {
   "display_name": "Python 3 (ipykernel)",
   "language": "python",
   "name": "python3"
  },
  "language_info": {
   "codemirror_mode": {
    "name": "ipython",
    "version": 3
   },
   "file_extension": ".py",
   "mimetype": "text/x-python",
   "name": "python",
   "nbconvert_exporter": "python",
   "pygments_lexer": "ipython3",
   "version": "3.11.7"
  }
 },
 "nbformat": 4,
 "nbformat_minor": 5
}
